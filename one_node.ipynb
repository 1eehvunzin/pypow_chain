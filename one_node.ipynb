import hashlib
import json
from time import time
import random
import requests
from flask import Flask, request, jsonify 

class BlockChain(object):
    def __init__(self):
        self.chain=[]
        self.current_transaction=[]
        self.nodes=set()
        self.new_block(previous_hash=1,proof=100)

@staticmethod
def hash(block):
    block_string = json.dumps(block, sort_keys=True).encode()
    return hashlib.sha256(block_string).hexdigest()

@property
def last_block(self):
    return self.chain[-1]

@staticmethod
def vaild_proof(last_proof, proof):
    guess=str(last_proof+proof).encode
    guess_hash=hashlib.sha256(guess).hexdigest()
    return guess_hash[:4]=="0000"

def pow(self, last_proof):
    proof=random.randint(-1000000,1000000)
    while self.vaild_proof(last_proof, proof) is False:
        proof=random.randint(-1000000,1000000)
    return proof

def new_transaction(self, sender, recipient, amount):
    self.current_transaction.append(
        {
            'sender' : sender, #송신자
            'recipient' : recipient, #수신자
            'amount' : amount, #금액
            'timestamp' : time()
        }
    )
    return self.last_block['index'] + 1

def new_block(self, proof, previous_hash=None):
        block = {
            'index':len(self.chain)+1,
            'timestamp' : time(),
            'transactions':self.current_transaction,
            'nonce':proof,
            'previous_hash':previous_hash or self.hash(self.chain[-1]),
        }

        self.current_transaction=[]
        self.chain.append(block)
        return block

def vaild_chain(self, chain):
    last_block=chain[0]
    current_index=1

    while current_index<len(chain):
        block=chain[current_index]
        print('%s'%last_block)
        print('%s'%block)
        print("\n--------\n")
        if block['previous_hash']!=self.hash(last_block):
            return False
        last_block=block
        current_index+=1
    return True